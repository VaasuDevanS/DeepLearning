{
  "nbformat": 4,
  "nbformat_minor": 0,
  "metadata": {
    "colab": {
      "name": "SentimentClassificationUsingKeras.ipynb",
      "provenance": [],
      "collapsed_sections": []
    },
    "kernelspec": {
      "name": "python3",
      "display_name": "Python 3"
    }
  },
  "cells": [
    {
      "cell_type": "markdown",
      "metadata": {
        "id": "xtJQcUTiV4hW",
        "colab_type": "text"
      },
      "source": [
        "# Sentiment Analysis using Keras and IMDB dataset  \n",
        "Nov 19, 2019  \n",
        "Advanced Techniques in Remote Sensing\n",
        "\n",
        "Author: Vaasudevan Srinivasan (https://vaasudevans.github.io)  \n",
        "Reference: https://keras.io/examples/imdb_cnn_lstm/"
      ]
    },
    {
      "cell_type": "code",
      "metadata": {
        "id": "1OakephP-ywv",
        "colab_type": "code",
        "colab": {}
      },
      "source": [
        "# Text processing\n",
        "from keras.preprocessing.text import text_to_word_sequence\n",
        "from keras.preprocessing import sequence\n",
        "\n",
        "# Model\n",
        "from keras.models import Sequential\n",
        "from keras.layers import Dense, Dropout, Activation\n",
        "from keras.layers import Conv1D, MaxPooling1D\n",
        "from keras.layers import Embedding\n",
        "from keras.layers import LSTM\n",
        "from keras.utils import plot_model\n",
        "\n",
        "# Dataset\n",
        "from keras.datasets import imdb\n",
        "\n",
        "# Disable all tensorflow warnings and errors\n",
        "import os\n",
        "os.environ['TF_CPP_MIN_LOG_LEVEL'] = '3'\n",
        "\n",
        "# Disable deprecation warnings\n",
        "from tensorflow.python.util import deprecation\n",
        "deprecation._PRINT_DEPRECATION_WARNINGS = False"
      ],
      "execution_count": 0,
      "outputs": []
    },
    {
      "cell_type": "code",
      "metadata": {
        "id": "MJ0qX11V_BZg",
        "colab_type": "code",
        "colab": {}
      },
      "source": [
        "# Embedding\n",
        "max_features = 20000\n",
        "maxlen = 100\n",
        "embedding_size = 128\n",
        "\n",
        "# Convolution\n",
        "kernel_size = 5\n",
        "filters = 64\n",
        "pool_size = 4\n",
        "\n",
        "# LSTM\n",
        "lstm_output_size = 70\n",
        "\n",
        "# Training\n",
        "batch_size = 30\n",
        "epochs = 2"
      ],
      "execution_count": 0,
      "outputs": []
    },
    {
      "cell_type": "code",
      "metadata": {
        "id": "RSX-k1LV_HJI",
        "colab_type": "code",
        "outputId": "1d6e6a3c-348a-473e-d06e-b9163900caa5",
        "colab": {
          "base_uri": "https://localhost:8080/",
          "height": 73
        }
      },
      "source": [
        "print('Loading data...')\n",
        "(x_train, y_train), (x_test, y_test) = imdb.load_data(num_words=max_features)\n",
        "print(\"Training, Testing sequences\", len(x_train), len(x_test))"
      ],
      "execution_count": 0,
      "outputs": [
        {
          "output_type": "stream",
          "text": [
            "Loading data...\n",
            "Training, Testing sequences 25000 25000\n"
          ],
          "name": "stdout"
        }
      ]
    },
    {
      "cell_type": "code",
      "metadata": {
        "id": "4ZuK59_e_OIG",
        "colab_type": "code",
        "outputId": "60873fcd-0da4-45f7-d267-dfc3bc991d32",
        "colab": {
          "base_uri": "https://localhost:8080/",
          "height": 235
        }
      },
      "source": [
        "x_train = sequence.pad_sequences(x_train, maxlen=maxlen)\n",
        "x_test = sequence.pad_sequences(x_test, maxlen=maxlen)\n",
        "print('After padding:- x_train shape:', x_train.shape)\n",
        "print('After padding:- x_test shape:', x_test.shape)\n",
        "print(x_train[0], y_train[0])"
      ],
      "execution_count": 0,
      "outputs": [
        {
          "output_type": "stream",
          "text": [
            "After padding:- x_train shape: (25000, 100)\n",
            "After padding:- x_test shape: (25000, 100)\n",
            "[ 1415    33     6    22    12   215    28    77    52     5    14   407\n",
            "    16    82 10311     8     4   107   117  5952    15   256     4     2\n",
            "     7  3766     5   723    36    71    43   530   476    26   400   317\n",
            "    46     7     4 12118  1029    13   104    88     4   381    15   297\n",
            "    98    32  2071    56    26   141     6   194  7486    18     4   226\n",
            "    22    21   134   476    26   480     5   144    30  5535    18    51\n",
            "    36    28   224    92    25   104     4   226    65    16    38  1334\n",
            "    88    12    16   283     5    16  4472   113   103    32    15    16\n",
            "  5345    19   178    32] 1\n"
          ],
          "name": "stdout"
        }
      ]
    },
    {
      "cell_type": "code",
      "metadata": {
        "id": "xtbTHsdrADTM",
        "colab_type": "code",
        "outputId": "8a1974c9-fbd0-45ee-b4a5-5949d743c42e",
        "colab": {
          "base_uri": "https://localhost:8080/",
          "height": 744
        }
      },
      "source": [
        "model = Sequential()\n",
        "model.add(Embedding(max_features, embedding_size, input_length=maxlen))\n",
        "model.add(Dropout(0.25))\n",
        "model.add(Conv1D(filters,\n",
        "                 kernel_size,\n",
        "                 padding='valid',   # No padding\n",
        "                 activation='relu',\n",
        "                 strides=1))\n",
        "model.add(MaxPooling1D(pool_size=pool_size))\n",
        "model.add(LSTM(lstm_output_size))\n",
        "model.add(Dense(1))\n",
        "model.add(Activation('sigmoid'))\n",
        "\n",
        "model.compile(loss='binary_crossentropy',\n",
        "              optimizer='adam',\n",
        "              metrics=['accuracy'])\n",
        "\n",
        "plot_model(model,show_shapes=True, show_layer_names=True, dpi=80)"
      ],
      "execution_count": 0,
      "outputs": [
        {
          "output_type": "execute_result",
          "data": {
            "image/png": "[encoded data removed]",
            "text/plain": [
              "<IPython.core.display.Image object>"
            ]
          },
          "metadata": {
            "tags": []
          },
          "execution_count": 16
        }
      ]
    },
    {
      "cell_type": "code",
      "metadata": {
        "id": "w_zYxb_5ALX8",
        "colab_type": "code",
        "outputId": "bfdddf64-fadf-4187-c5a8-53478eba37ba",
        "colab": {
          "base_uri": "https://localhost:8080/",
          "height": 181
        }
      },
      "source": [
        "# Training\n",
        "model.fit(x_train, y_train,\n",
        "          batch_size=batch_size,\n",
        "          epochs=epochs,\n",
        "          validation_data=(x_test, y_test))\n",
        "\n",
        "score, acc = model.evaluate(x_test, y_test, batch_size=batch_size)\n",
        "print('Test score:', score)\n",
        "print('Test accuracy:', acc)"
      ],
      "execution_count": 0,
      "outputs": [
        {
          "output_type": "stream",
          "text": [
            "Train on 25000 samples, validate on 25000 samples\n",
            "Epoch 1/2\n",
            "25000/25000 [==============================] - 80s 3ms/step - loss: 0.3926 - acc: 0.8131 - val_loss: 0.3221 - val_acc: 0.8616\n",
            "Epoch 2/2\n",
            "25000/25000 [==============================] - 78s 3ms/step - loss: 0.1957 - acc: 0.9257 - val_loss: 0.3689 - val_acc: 0.8544\n",
            "25000/25000 [==============================] - 8s 326us/step\n",
            "Test score: 0.3689092292144895\n",
            "Test accuracy: 0.8543999938964844\n"
          ],
          "name": "stdout"
        }
      ]
    },
    {
      "cell_type": "markdown",
      "metadata": {
        "id": "O-czyLWvVymb",
        "colab_type": "text"
      },
      "source": [
        "# Testing"
      ]
    },
    {
      "cell_type": "code",
      "metadata": {
        "id": "TyF3Z5_GBytU",
        "colab_type": "code",
        "colab": {}
      },
      "source": [
        "word_to_id = imdb.get_word_index()\n",
        "word_to_id = {k: (v + 3) for k, v in word_to_id.items()}\n",
        "word_to_id.update([(\"<PAD>\", 0), (\"<START>\", 1), (\"<UNK>\", 2), (\"<UNUSED>\", 3)])\n",
        "id_to_word = {value: key for key, value in word_to_id.items()}\n",
        "\n",
        "def predict_review(review):\n",
        "\n",
        "    review_ids = []\n",
        "    \n",
        "    # Tokenize and get word index\n",
        "    tokens = text_to_word_sequence(review)\n",
        "    for t in tokens:\n",
        "        id_ = word_to_id.get(t, word_to_id[\"<UNK>\"])\n",
        "        if id_ > max_features:\n",
        "            review_ids.append(word_to_id[\"<UNUSED>\"])\n",
        "        else:\n",
        "            review_ids.append(id_)\n",
        "\n",
        "    # Pad with zeros\n",
        "    padded_review_ids = sequence.pad_sequences([review_ids],\n",
        "                                               value=word_to_id[\"<PAD>\"],\n",
        "                                               maxlen=maxlen)\n",
        "    print(padded_review_ids)\n",
        "\n",
        "    return model.predict(padded_review_ids)[0]"
      ],
      "execution_count": 0,
      "outputs": []
    },
    {
      "cell_type": "code",
      "metadata": {
        "id": "e4hVFZdhHvD4",
        "colab_type": "code",
        "colab": {}
      },
      "source": [
        "reviews = ['movie is great',                            # Mohammad\n",
        "           'joker is pretty dark',                      # Danny\n",
        "           'Acting was good; direction was horrible',   # Vaasu\n",
        "           'angry birds was childish'                   # Danny\n",
        "          ]"
      ],
      "execution_count": 0,
      "outputs": []
    },
    {
      "cell_type": "code",
      "metadata": {
        "id": "tkLNEvWwCs05",
        "colab_type": "code",
        "outputId": "688862db-e007-41a2-e855-288c1576562e",
        "colab": {
          "base_uri": "https://localhost:8080/",
          "height": 595
        }
      },
      "source": [
        "for r in reviews:\n",
        "    print(r, predict_review(r))"
      ],
      "execution_count": 0,
      "outputs": [
        {
          "output_type": "stream",
          "text": [
            "[[ 0  0  0  0  0  0  0  0  0  0  0  0  0  0  0  0  0  0  0  0  0  0  0  0\n",
            "   0  0  0  0  0  0  0  0  0  0  0  0  0  0  0  0  0  0  0  0  0  0  0  0\n",
            "   0  0  0  0  0  0  0  0  0  0  0  0  0  0  0  0  0  0  0  0  0  0  0  0\n",
            "   0  0  0  0  0  0  0  0  0  0  0  0  0  0  0  0  0  0  0  0  0  0  0  0\n",
            "   0 20  9 87]]\n",
            "movie is great [0.7264335]\n",
            "[[   0    0    0    0    0    0    0    0    0    0    0    0    0    0\n",
            "     0    0    0    0    0    0    0    0    0    0    0    0    0    0\n",
            "     0    0    0    0    0    0    0    0    0    0    0    0    0    0\n",
            "     0    0    0    0    0    0    0    0    0    0    0    0    0    0\n",
            "     0    0    0    0    0    0    0    0    0    0    0    0    0    0\n",
            "     0    0    0    0    0    0    0    0    0    0    0    0    0    0\n",
            "     0    0    0    0    0    0    0    0    0    0    0    0 6199    9\n",
            "   184  465]]\n",
            "joker is pretty dark [0.50120264]\n",
            "[[  0   0   0   0   0   0   0   0   0   0   0   0   0   0   0   0   0   0\n",
            "    0   0   0   0   0   0   0   0   0   0   0   0   0   0   0   0   0   0\n",
            "    0   0   0   0   0   0   0   0   0   0   0   0   0   0   0   0   0   0\n",
            "    0   0   0   0   0   0   0   0   0   0   0   0   0   0   0   0   0   0\n",
            "    0   0   0   0   0   0   0   0   0   0   0   0   0   0   0   0   0   0\n",
            "    0   0   0   0 116  16  52 458  16 527]]\n",
            "Acting was good; direction was horrible [0.1304652]\n",
            "[[   0    0    0    0    0    0    0    0    0    0    0    0    0    0\n",
            "     0    0    0    0    0    0    0    0    0    0    0    0    0    0\n",
            "     0    0    0    0    0    0    0    0    0    0    0    0    0    0\n",
            "     0    0    0    0    0    0    0    0    0    0    0    0    0    0\n",
            "     0    0    0    0    0    0    0    0    0    0    0    0    0    0\n",
            "     0    0    0    0    0    0    0    0    0    0    0    0    0    0\n",
            "     0    0    0    0    0    0    0    0    0    0    0    0 1612 3796\n",
            "    16 3787]]\n",
            "angry birds was childish [0.47809967]\n"
          ],
          "name": "stdout"
        }
      ]
    },
    {
      "cell_type": "code",
      "metadata": {
        "id": "tnrihDcvbm7-",
        "colab_type": "code",
        "outputId": "70856177-0b36-44c1-d668-faf797a872b8",
        "colab": {
          "base_uri": "https://localhost:8080/",
          "height": 1000
        }
      },
      "source": [
        "[(id_to_word[i],i) for i in x_train[0]]"
      ],
      "execution_count": 0,
      "outputs": [
        {
          "output_type": "execute_result",
          "data": {
            "text/plain": [
              "[('cry', 1415),\n",
              " ('at', 33),\n",
              " ('a', 6),\n",
              " ('film', 22),\n",
              " ('it', 12),\n",
              " ('must', 215),\n",
              " ('have', 28),\n",
              " ('been', 77),\n",
              " ('good', 52),\n",
              " ('and', 5),\n",
              " ('this', 14),\n",
              " ('definitely', 407),\n",
              " ('was', 16),\n",
              " ('also', 82),\n",
              " ('congratulations', 10311),\n",
              " ('to', 8),\n",
              " ('the', 4),\n",
              " ('two', 107),\n",
              " ('little', 117),\n",
              " (\"boy's\", 5952),\n",
              " ('that', 15),\n",
              " ('played', 256),\n",
              " ('the', 4),\n",
              " ('<UNK>', 2),\n",
              " ('of', 7),\n",
              " ('norman', 3766),\n",
              " ('and', 5),\n",
              " ('paul', 723),\n",
              " ('they', 36),\n",
              " ('were', 71),\n",
              " ('just', 43),\n",
              " ('brilliant', 530),\n",
              " ('children', 476),\n",
              " ('are', 26),\n",
              " ('often', 400),\n",
              " ('left', 317),\n",
              " ('out', 46),\n",
              " ('of', 7),\n",
              " ('the', 4),\n",
              " ('praising', 12118),\n",
              " ('list', 1029),\n",
              " ('i', 13),\n",
              " ('think', 104),\n",
              " ('because', 88),\n",
              " ('the', 4),\n",
              " ('stars', 381),\n",
              " ('that', 15),\n",
              " ('play', 297),\n",
              " ('them', 98),\n",
              " ('all', 32),\n",
              " ('grown', 2071),\n",
              " ('up', 56),\n",
              " ('are', 26),\n",
              " ('such', 141),\n",
              " ('a', 6),\n",
              " ('big', 194),\n",
              " ('profile', 7486),\n",
              " ('for', 18),\n",
              " ('the', 4),\n",
              " ('whole', 226),\n",
              " ('film', 22),\n",
              " ('but', 21),\n",
              " ('these', 134),\n",
              " ('children', 476),\n",
              " ('are', 26),\n",
              " ('amazing', 480),\n",
              " ('and', 5),\n",
              " ('should', 144),\n",
              " ('be', 30),\n",
              " ('praised', 5535),\n",
              " ('for', 18),\n",
              " ('what', 51),\n",
              " ('they', 36),\n",
              " ('have', 28),\n",
              " ('done', 224),\n",
              " (\"don't\", 92),\n",
              " ('you', 25),\n",
              " ('think', 104),\n",
              " ('the', 4),\n",
              " ('whole', 226),\n",
              " ('story', 65),\n",
              " ('was', 16),\n",
              " ('so', 38),\n",
              " ('lovely', 1334),\n",
              " ('because', 88),\n",
              " ('it', 12),\n",
              " ('was', 16),\n",
              " ('true', 283),\n",
              " ('and', 5),\n",
              " ('was', 16),\n",
              " (\"someone's\", 4472),\n",
              " ('life', 113),\n",
              " ('after', 103),\n",
              " ('all', 32),\n",
              " ('that', 15),\n",
              " ('was', 16),\n",
              " ('shared', 5345),\n",
              " ('with', 19),\n",
              " ('us', 178),\n",
              " ('all', 32)]"
            ]
          },
          "metadata": {
            "tags": []
          },
          "execution_count": 21
        }
      ]
    },
    {
      "cell_type": "code",
      "metadata": {
        "id": "ejTbeaB-6-BQ",
        "colab_type": "code",
        "outputId": "52fa56bf-9ab5-4826-81ea-c3fc18eac72b",
        "colab": {
          "base_uri": "https://localhost:8080/",
          "height": 163
        }
      },
      "source": [
        "review = [\"%s. movie was great\" % i for i in range(100)] # ['0. movie was great', '1. movie was great', '2. movie was great', ...]\n",
        "print(\"Number of words: \", len(''.join(review).split()))\n",
        "predict_review(''.join(review))"
      ],
      "execution_count": 0,
      "outputs": [
        {
          "output_type": "stream",
          "text": [
            "Number of words:  301\n",
            "[[ 2 20 16  2 20 16  2 20 16  2 20 16  2 20 16  2 20 16  2 20 16  2 20 16\n",
            "   2 20 16  2 20 16  2 20 16  2 20 16  2 20 16  2 20 16  2 20 16  2 20 16\n",
            "   2 20 16  2 20 16  2 20 16  2 20 16  2 20 16  2 20 16  2 20 16  2 20 16\n",
            "   2 20 16  2 20 16  2 20 16  2 20 16  2 20 16  2 20 16  2 20 16  2 20 16\n",
            "   2 20 16 87]]\n"
          ],
          "name": "stdout"
        },
        {
          "output_type": "execute_result",
          "data": {
            "text/plain": [
              "array([0.6101886], dtype=float32)"
            ]
          },
          "metadata": {
            "tags": []
          },
          "execution_count": 22
        }
      ]
    },
    {
      "cell_type": "code",
      "metadata": {
        "id": "s5_TJphauqmE",
        "colab_type": "code",
        "outputId": "b819e057-8f19-4155-c143-1cd1a4dfbc35",
        "colab": {
          "base_uri": "https://localhost:8080/",
          "height": 35
        }
      },
      "source": [
        "len(word_to_id) # Count of unique words in the review dataset"
      ],
      "execution_count": 0,
      "outputs": [
        {
          "output_type": "execute_result",
          "data": {
            "text/plain": [
              "88588"
            ]
          },
          "metadata": {
            "tags": []
          },
          "execution_count": 23
        }
      ]
    }
  ]
}