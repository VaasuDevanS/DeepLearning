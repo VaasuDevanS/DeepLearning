{
 "cells": [
  {
   "cell_type": "markdown",
   "metadata": {
    "slideshow": {
     "slide_type": "slide"
    }
   },
   "source": [
    "## Recurrent Neural Network\n",
    "<table style=\"float:left\">\n",
    "    <td> <img src=\"images/UNB_logo.jpg\" width=150 height=150> </td>\n",
    "    <td> <img src=\"images/GGE_logo.gif\" width=100 height=100> </td>\n",
    "</table>\n",
    "<br> <br> <br> <br> <br> <br> <br>\n",
    "Presented by: Vaasudevan Srinivasan <br>\n",
    "Date: Oct 29, 2019"
   ]
  },
  {
   "cell_type": "markdown",
   "metadata": {
    "slideshow": {
     "slide_type": "skip"
    }
   },
   "source": [
    "jupyter nbconvert Presentation1_RNN\\Recurrent_Neural_Network_RNN_Vaasu.ipynb --to slides --post serve"
   ]
  },
  {
   "cell_type": "markdown",
   "metadata": {
    "slideshow": {
     "slide_type": "slide"
    }
   },
   "source": [
    "<div> \n",
    "    <object type=\"text/html\" data=\"https://stanford.edu/~shervine/teaching/cs-229/cheatsheet-deep-learning\" width=\"800px\" height=\"600px\" style=\"overflow:auto; border: 1px solid black\">\n",
    "    </object>\n",
    " </div>\n",
    " \n",
    " <a href=\"https://stanford.edu/~shervine/teaching/cs-229/cheatsheet-deep-learning\"> Website </a>"
   ]
  },
  {
   "cell_type": "markdown",
   "metadata": {
    "slideshow": {
     "slide_type": "slide"
    }
   },
   "source": [
    "What is RNN ?"
   ]
  },
  {
   "cell_type": "markdown",
   "metadata": {
    "slideshow": {
     "slide_type": "slide"
    }
   },
   "source": [
    "A recurrent neural network (RNN) is a class of artificial neural networks where connections between nodes form a <b>directed graph along a temporal sequence</b>.\n",
    "\n",
    "At a high level, a recurrent neural network (RNN) <b>processes sequences</b> — whether daily stock prices, sentences, or sensor measurements — one element at a time while retaining a <b>memory</b> (called a state) of <b>what has come previously in the sequence.</b>\n",
    "\n",
    "<img src=\"images/What is RNN.png\">\n",
    "\n",
    "<u>Things to notice:</u> <br>\n",
    "Input vector, hidden vector as well as output vector have same weights (Wi, Wo, Wh) for all RNN unit. <br>\n",
    "Output of an RNN unit not only depends on the current input but also the previous hidden state which carries the past information"
   ]
  },
  {
   "cell_type": "markdown",
   "metadata": {
    "slideshow": {
     "slide_type": "slide"
    }
   },
   "source": [
    "### Perfect Roommate Example\n",
    "\n",
    "* Room mate who will cook everyday\n",
    "      * based on weather\n",
    "      * based on sequence\n",
    "      \n",
    "<img src=\"images/roommate/room_mate1.png\" width=400 height=400>"
   ]
  },
  {
   "cell_type": "markdown",
   "metadata": {
    "slideshow": {
     "slide_type": "slide"
    }
   },
   "source": [
    "<center> <b> Based on weather  </b> </center>\n",
    "\n",
    "<img src=\"images/roommate/room_mate2.png\" width=400 height=400 style=\"float:left\">\n",
    "<img src=\"images/roommate/room_mate3.png\" width=400 height=400 style=\"float:right\">"
   ]
  },
  {
   "cell_type": "markdown",
   "metadata": {
    "slideshow": {
     "slide_type": "slide"
    }
   },
   "source": [
    "<center> <b> Based on weather  </b> </center>\n",
    "\n",
    "<img src=\"images/roommate/room_mate4.png\" width=400 height=400 style=\"float:left; border: 1px solid black\">\n",
    "<img src=\"images/roommate/room_mate5.png\" width=400 height=400 style=\"float:right; border: 1px solid black\">"
   ]
  },
  {
   "cell_type": "markdown",
   "metadata": {
    "slideshow": {
     "slide_type": "slide"
    }
   },
   "source": [
    "<b> Based on sequence  </b>\n",
    "\n",
    "<img src=\"images/roommate/room_mate6.png\" width=500 height=500 style=\"border: 1px solid black\">"
   ]
  },
  {
   "cell_type": "markdown",
   "metadata": {
    "slideshow": {
     "slide_type": "slide"
    }
   },
   "source": [
    "<b> Based on sequence </b> <br>\n",
    "<img src=\"images/roommate/room_mate7.png\" width=500 height=400 style=\"border: 1px solid black\">"
   ]
  },
  {
   "cell_type": "markdown",
   "metadata": {
    "slideshow": {
     "slide_type": "slide"
    }
   },
   "source": [
    "<b> Based on sequence and weather </b> <br>\n",
    "<img src=\"images/roommate/room_mate8.png\" width=400 height=300 style=\"border: 1px solid black\">\n",
    "<img src=\"images/roommate/room_mate9.png\" width=400 height=300 style=\"border: 1px solid black\">"
   ]
  },
  {
   "cell_type": "markdown",
   "metadata": {
    "slideshow": {
     "slide_type": "slide"
    }
   },
   "source": [
    "<b> Based on sequence and weather </b> <br>\n",
    "<img src=\"images/roommate/room_mate10.png\" width=400 height=300 style=\"border: 1px solid black\">"
   ]
  },
  {
   "cell_type": "markdown",
   "metadata": {
    "slideshow": {
     "slide_type": "slide"
    }
   },
   "source": [
    "<b> Based on sequence and weather </b> <br>\n",
    "<img src=\"images/roommate/room_mate11.png\" width=500 height=400 style=\"border: 1px solid black\">\n",
    "<img src=\"images/roommate/room_mate12.png\" width=300 height=300 style=\"border: 1px solid black\">"
   ]
  },
  {
   "cell_type": "markdown",
   "metadata": {
    "slideshow": {
     "slide_type": "slide"
    }
   },
   "source": [
    "<b> Based on sequence and weather </b> <br>\n",
    "<img src=\"images/roommate/room_mate13.png\" width=500 height=400 style=\"border: 1px solid black\">\n",
    "<img src=\"images/roommate/room_mate14.png\" width=500 height=400 style=\"border: 1px solid black\">"
   ]
  },
  {
   "cell_type": "markdown",
   "metadata": {
    "slideshow": {
     "slide_type": "slide"
    }
   },
   "source": [
    "<img src=\"images/roommate/room_mate15.png\" width=600 height=600 style=\"border: 1px solid black\">"
   ]
  },
  {
   "cell_type": "markdown",
   "metadata": {
    "slideshow": {
     "slide_type": "slide"
    }
   },
   "source": [
    "<img src=\"images/roommate/room_mate16.png\" width=600 height=500 style=\"border: 1px solid black\">"
   ]
  },
  {
   "cell_type": "markdown",
   "metadata": {
    "slideshow": {
     "slide_type": "slide"
    }
   },
   "source": [
    "<b> Start with random weights and back propagate <br>\n",
    "<img src=\"images/roommate/room_mate17.png\" width=600 height=500 style=\"border: 1px solid black\">"
   ]
  },
  {
   "cell_type": "markdown",
   "metadata": {
    "slideshow": {
     "slide_type": "slide"
    }
   },
   "source": [
    "<img src=\"images/RNN_0.png\" style=\"border: 1px solid black\">"
   ]
  },
  {
   "cell_type": "markdown",
   "metadata": {
    "slideshow": {
     "slide_type": "slide"
    }
   },
   "source": [
    "<img src=\"images/RNN_1.png\" style=\"border: 1px solid black\">"
   ]
  },
  {
   "cell_type": "markdown",
   "metadata": {
    "slideshow": {
     "slide_type": "slide"
    }
   },
   "source": [
    "<img src=\"images/RNN_2.png\" style=\"border: 1px solid black\">"
   ]
  },
  {
   "cell_type": "markdown",
   "metadata": {
    "slideshow": {
     "slide_type": "slide"
    }
   },
   "source": [
    "<img src=\"images/RNN_3.png\" style=\"border: 1px solid black\">"
   ]
  },
  {
   "cell_type": "markdown",
   "metadata": {
    "slideshow": {
     "slide_type": "slide"
    }
   },
   "source": [
    "<img src=\"images/RNN_4.png\" style=\"border: 1px solid black\">"
   ]
  },
  {
   "cell_type": "markdown",
   "metadata": {
    "slideshow": {
     "slide_type": "slide"
    }
   },
   "source": [
    "Where it is used ?\n",
    "\n",
    "* Machine Translation\n",
    "* Natural Language Processing\n",
    "* Speech Recognition\n",
    "* Image recognition and characterization\n",
    "* Personal Assistants (like siri)"
   ]
  },
  {
   "cell_type": "markdown",
   "metadata": {
    "slideshow": {
     "slide_type": "slide"
    }
   },
   "source": [
    "<b> Gmail Auto completion Feature </b>\n",
    "<img src=\"images/Gmail_Autocompletion.png\">"
   ]
  },
  {
   "cell_type": "markdown",
   "metadata": {
    "slideshow": {
     "slide_type": "slide"
    }
   },
   "source": [
    "<b> Gmail Smart Reply </b> <br>\n",
    "<img src=\"images/Gmail_SmartReply.png\">"
   ]
  },
  {
   "cell_type": "markdown",
   "metadata": {
    "slideshow": {
     "slide_type": "slide"
    }
   },
   "source": [
    "<b> Machine Translation </b>\n",
    "<iframe src=\"https://www.bing.com/translator/\" width=\"800px\" height=\"500px\" style=\"border: 1px solid black\"> </iframe>"
   ]
  },
  {
   "cell_type": "markdown",
   "metadata": {
    "slideshow": {
     "slide_type": "slide"
    }
   },
   "source": [
    "<b> Natural Language processing </b>\n",
    "<iframe src=\"https://pandorabots.com/mitsuku/\" width=500 height=600 style=\"border: 1px solid black\"> </iframe>"
   ]
  },
  {
   "cell_type": "markdown",
   "metadata": {
    "slideshow": {
     "slide_type": "slide"
    }
   },
   "source": [
    "<img src=\"images/Grammarly.png\">\n",
    "\n",
    "Grammarly is a technology company that develops a digital writing tool using artificial intelligence and <b>natural language processing</b>. Through machine learning and <b>deep learning algorithms</b>, Grammarly’s product offers grammar checking, spell checking, and plagiarism detection services along with suggestions about writing clarity, concision, vocabulary, delivery style, and tone. The software was first released in July 2009."
   ]
  },
  {
   "cell_type": "markdown",
   "metadata": {
    "slideshow": {
     "slide_type": "slide"
    }
   },
   "source": [
    "# Types of RNNs"
   ]
  },
  {
   "cell_type": "markdown",
   "metadata": {
    "slideshow": {
     "slide_type": "slide"
    }
   },
   "source": [
    "## 1. LSTM (Long Short term Memory)\n",
    "\n",
    "* This type introduces a memory cell, a special cell that can process data when data have time gaps (or lags)\n",
    "* RNNs can process texts by <b>“keeping in mind” ten previous words</b>, and LSTM networks can <b>process video frame “keeping in mind” </b> something that happened many frames ago. LSTM networks are also widely used for writing and speech recognition. <br>\n",
    "\n",
    "<img src=\"images/LSTM.png\" width=400 height=400>"
   ]
  },
  {
   "cell_type": "markdown",
   "metadata": {
    "slideshow": {
     "slide_type": "slide"
    }
   },
   "source": [
    "## 2. GRU (Gated Recurrent Unit)\n",
    "* GRUs are LSTMs with different gating\n",
    "* Lack of output gate makes it easier to repeat the same output for a concrete input multiple times, and are currently used the most in sound (music) and speech synthesis\n",
    "* They are less resource consuming than LSTMs and almost the same effective\n",
    "\n",
    "<img src=\"images/GRU.png\" width=400 height=400>"
   ]
  },
  {
   "cell_type": "markdown",
   "metadata": {
    "slideshow": {
     "slide_type": "slide"
    }
   },
   "source": [
    "# Translator with tiny! corupus"
   ]
  },
  {
   "cell_type": "markdown",
   "metadata": {
    "slideshow": {
     "slide_type": "slide"
    }
   },
   "source": [
    "```\n",
    "I slept.\tநான் தூங்கினேன்.\n",
    "Calm down.\tஅமைதியாக இருங்கள்\n",
    "I'll walk.\tநான் நடப்பேன்.\n",
    "Who is he?\tஅவன் யார்?\n",
    "Who knows?\tயாருக்குத் தெரியும்?\n",
    "...\n",
    "...\n",
    "...\n",
    "```"
   ]
  },
  {
   "cell_type": "code",
   "execution_count": 14,
   "metadata": {
    "slideshow": {
     "slide_type": "slide"
    }
   },
   "outputs": [],
   "source": [
    "# Import all the modules\n",
    "from tensorflow.keras.preprocessing.sequence import pad_sequences\n",
    "from tensorflow.keras.preprocessing.text import Tokenizer\n",
    "from tensorflow.keras.layers import Dense, LSTM, Embedding, RepeatVector\n",
    "from tensorflow.keras.models import Sequential\n",
    "from sklearn.model_selection import train_test_split\n",
    "import matplotlib.pyplot as plt\n",
    "import numpy as np\n",
    "import string"
   ]
  },
  {
   "cell_type": "code",
   "execution_count": 4,
   "metadata": {
    "slideshow": {
     "slide_type": "slide"
    }
   },
   "outputs": [],
   "source": [
    "class PrepareData:\n",
    "    \n",
    "    def __init__(self, data_file):\n",
    "        \n",
    "        self.data = data_file\n",
    "        \n",
    "    def read_file(self):\n",
    "        \n",
    "        # Read the file and just save the sequences\n",
    "        with open(self.data, encoding='utf-8') as f:\n",
    "            sents = [line.strip().split(\"\\t\")[:2] for line in f]\n",
    "        self.input = np.array(sents)\n",
    "                \n",
    "    def preprocess_data(self):\n",
    "        \n",
    "        # Remove punctuation using re, to lowercase\n",
    "        strip = lambda x: x.translate(str.maketrans('', '', string.punctuation))\n",
    "        self.input[:,0] = [strip(s).lower().strip() for s in self.input[:,0]]\n",
    "        self.input[:,1] = [strip(s).lower().strip() for s in self.input[:,1]]"
   ]
  },
  {
   "cell_type": "code",
   "execution_count": 43,
   "metadata": {
    "slideshow": {
     "slide_type": "slide"
    }
   },
   "outputs": [],
   "source": [
    "class PrepareData(PrepareData):\n",
    "    \n",
    "    def tokenize(self, lines):\n",
    "        \n",
    "        # Create tokenizer\n",
    "        tokenizer = Tokenizer()\n",
    "        tokenizer.fit_on_texts(lines)\n",
    "        \n",
    "        # Maximum length of the sent in the given lines and vocab_size\n",
    "        vocab_size = len(tokenizer.word_index) + 1\n",
    "        seq = tokenizer.texts_to_sequences(lines)\n",
    "        seq = pad_sequences(seq, maxlen=self.length, padding='post')\n",
    "        \n",
    "        return vocab_size, seq, tokenizer\n",
    "        \n",
    "    def tokenization_padding(self):\n",
    "        \n",
    "        train, test = train_test_split(self.input, test_size=0.1, random_state=1)\n",
    "        self.length = max([max([len(i.split()) for i in train[:,0]]),\n",
    "                           max([len(i.split()) for i in train[:,0]])])\n",
    "        \n",
    "        # Training\n",
    "        self.train_sizeX, self.trainX, self.trainXT = self.tokenize(train[:,0])\n",
    "        self.train_sizeY, self.trainY, self.trainYT = self.tokenize(train[:,1])\n",
    "        \n",
    "        # Testing\n",
    "        self.test_sizeX, self.testX, self.testXT = self.tokenize(train[:,0])\n",
    "        self.test_sizeY, self.testY, self.testYT = self.tokenize(train[:,1])\n",
    "        \n",
    "    def prepare(self):\n",
    "        self.read_file()\n",
    "        self.preprocess_data()\n",
    "        self.tokenization_padding()"
   ]
  },
  {
   "cell_type": "code",
   "execution_count": 44,
   "metadata": {
    "slideshow": {
     "slide_type": "slide"
    }
   },
   "outputs": [],
   "source": [
    "def translator_model(in_vocab, out_vocab, in_timesteps, out_timesteps, units):   \n",
    "\n",
    "    model = Sequential()\n",
    "    model.add(Embedding(in_vocab, out_vocab))\n",
    "    model.add(LSTM(units))\n",
    "    model.add(RepeatVector(out_timesteps))\n",
    "    model.add(LSTM(units, return_sequences=True))\n",
    "    model.add(Dense(out_vocab, activation='softmax'))\n",
    "    \n",
    "    # Print the model summary\n",
    "    model.summary()\n",
    "    return model"
   ]
  },
  {
   "cell_type": "code",
   "execution_count": 45,
   "metadata": {
    "slideshow": {
     "slide_type": "slide"
    }
   },
   "outputs": [
    {
     "name": "stdout",
     "output_type": "stream",
     "text": [
      "Model: \"sequential_4\"\n",
      "_________________________________________________________________\n",
      "Layer (type)                 Output Shape              Param #   \n",
      "=================================================================\n",
      "embedding_4 (Embedding)      (None, None, 494)         175370    \n",
      "_________________________________________________________________\n",
      "lstm_8 (LSTM)                (None, 100)               238000    \n",
      "_________________________________________________________________\n",
      "repeat_vector_4 (RepeatVecto (None, 19, 100)           0         \n",
      "_________________________________________________________________\n",
      "lstm_9 (LSTM)                (None, 19, 100)           80400     \n",
      "_________________________________________________________________\n",
      "dense_4 (Dense)              (None, 19, 494)           49894     \n",
      "=================================================================\n",
      "Total params: 543,664\n",
      "Trainable params: 543,664\n",
      "Non-trainable params: 0\n",
      "_________________________________________________________________\n"
     ]
    }
   ],
   "source": [
    "# Prepare the Data\n",
    "eng_tam = PrepareData(\"data/tam.txt\")\n",
    "eng_tam.prepare()\n",
    "trainX, trainY = eng_tam.trainX, eng_tam.trainY\n",
    "\n",
    "# Build the model\n",
    "eng_tam_model = translator_model(eng_tam.train_sizeX,\n",
    "                                 eng_tam.train_sizeY,\n",
    "                                 eng_tam.length,\n",
    "                                 eng_tam.length,\n",
    "                                 100)"
   ]
  },
  {
   "cell_type": "code",
   "execution_count": 46,
   "metadata": {
    "slideshow": {
     "slide_type": "slide"
    }
   },
   "outputs": [
    {
     "name": "stdout",
     "output_type": "stream",
     "text": [
      "Train on 123 samples, validate on 54 samples\n",
      "Epoch 1/5\n",
      "123/123 [==============================] - 5s 38ms/sample - loss: 3.5180 - accuracy: 0.7467 - val_loss: 1.6183 - val_accuracy: 0.8002\n",
      "Epoch 2/5\n",
      "123/123 [==============================] - 1s 5ms/sample - loss: 1.7270 - accuracy: 0.7788 - val_loss: 1.5286 - val_accuracy: 0.8002\n",
      "Epoch 3/5\n",
      "123/123 [==============================] - 1s 5ms/sample - loss: 1.5502 - accuracy: 0.7754 - val_loss: 1.4518 - val_accuracy: 0.8002\n",
      "Epoch 4/5\n",
      "123/123 [==============================] - 1s 5ms/sample - loss: 1.4825 - accuracy: 0.7788 - val_loss: 1.4513 - val_accuracy: 0.8002\n",
      "Epoch 5/5\n",
      "123/123 [==============================] - 1s 5ms/sample - loss: 1.4615 - accuracy: 0.7788 - val_loss: 1.4767 - val_accuracy: 0.8002\n"
     ]
    }
   ],
   "source": [
    "eng_tam_model.compile(optimizer='adam',\n",
    "                      loss='sparse_categorical_crossentropy',\n",
    "                      metrics=['accuracy'])\n",
    "\n",
    "history = eng_tam_model.fit(trainX,\n",
    "                            trainY,\n",
    "                            epochs=5,\n",
    "                            batch_size=5,\n",
    "                            validation_split=0.3)"
   ]
  },
  {
   "cell_type": "code",
   "execution_count": 47,
   "metadata": {
    "slideshow": {
     "slide_type": "slide"
    }
   },
   "outputs": [
    {
     "data": {
      "image/png": "[encoded data removed]",
      "text/plain": [
       "<Figure size 432x288 with 1 Axes>"
      ]
     },
     "metadata": {
      "needs_background": "light"
     },
     "output_type": "display_data"
    }
   ],
   "source": [
    "plt.plot(history.history['loss'])\n",
    "plt.plot(history.history['val_loss'])\n",
    "plt.legend(['train','validation'])\n",
    "plt.show()"
   ]
  },
  {
   "cell_type": "code",
   "execution_count": 31,
   "metadata": {
    "slideshow": {
     "slide_type": "skip"
    }
   },
   "outputs": [],
   "source": [
    "def translate(sent, length, model):\n",
    "    \n",
    "    # Split line into words\n",
    "    words = [i for i in sent.split()]\n",
    "    seq = eng_tam.xT.texts_to_sequences(words)\n",
    "    seq = pad_sequences(seq, maxlen=length, padding='post')\n",
    "    \n",
    "    # Predict the Input\n",
    "    prediction = model.predict_classes(seq)\n",
    "    print(prediction)\n",
    "\n",
    "    def get_word(n, tokenizer):\n",
    "        for word, index in tokenizer.word_index.items():\n",
    "            if index == n:\n",
    "                return word\n",
    "        return None\n",
    "\n",
    "    for i in prediction:\n",
    "        temp = []\n",
    "        for j in range(len(i)):\n",
    "            t = get_word(i[j], eng_tam.yT)\n",
    "            if j > 0:\n",
    "                if (t == get_word(i[j-1], eng_tam.yT)) or (t == None):\n",
    "                    temp.append('')\n",
    "                else:\n",
    "                    temp.append(t)\n",
    "            else:\n",
    "                if(t == None):\n",
    "                    temp.append('')\n",
    "                else:\n",
    "                    temp.append(t)            \n",
    "        \n",
    "        print(\"Prediction: \", ' '.join(temp).strip())"
   ]
  },
  {
   "cell_type": "markdown",
   "metadata": {
    "slideshow": {
     "slide_type": "slide"
    }
   },
   "source": [
    "<img src=\"images/TypesOfNetwoks.png\" width=400 height=400>"
   ]
  },
  {
   "cell_type": "markdown",
   "metadata": {
    "slideshow": {
     "slide_type": "slide"
    }
   },
   "source": [
    "References\n",
    "* https://stanford.edu/~shervine/teaching/cs-229/cheatsheet-deep-learning\n",
    "* https://www.quora.com/What-is-RNN\n",
    "* http://www.manythings.org/anki/\n",
    "* https://github.com/prateekjoshi565/machine_translation/blob/master/german_to_english.ipynb\n",
    "* http://cs231n.stanford.edu/slides/2017/cs231n_2017_lecture10.pdf\n",
    "* https://www.youtube.com/watch?v=UNmqTiOnRfg"
   ]
  }
 ],
 "metadata": {
  "celltoolbar": "Slideshow",
  "kernelspec": {
   "display_name": "Python 3",
   "language": "python",
   "name": "python3"
  },
  "language_info": {
   "codemirror_mode": {
    "name": "ipython",
    "version": 3
   },
   "file_extension": ".py",
   "mimetype": "text/x-python",
   "name": "python",
   "nbconvert_exporter": "python",
   "pygments_lexer": "ipython3",
   "version": "3.7.4"
  }
 },
 "nbformat": 4,
 "nbformat_minor": 2
}
