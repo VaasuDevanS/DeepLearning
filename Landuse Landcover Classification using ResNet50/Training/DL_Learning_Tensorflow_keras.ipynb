{
 "cells": [
  {
   "cell_type": "code",
   "execution_count": 0,
   "metadata": {
    "colab": {},
    "colab_type": "code",
    "id": "mILtQnRx9r-C"
   },
   "outputs": [],
   "source": [
    "# Deep learning modules\n",
    "from tensorflow.keras import layers\n",
    "import tensorflow as tf\n",
    "\n",
    "# data-science packages\n",
    "from sklearn.datasets.samples_generator import make_blobs\n",
    "from sklearn.model_selection import train_test_split\n",
    "import matplotlib.pyplot as plt\n",
    "import numpy as np\n",
    "\n",
    "# system\n",
    "import platform\n",
    "import os"
   ]
  },
  {
   "cell_type": "code",
   "execution_count": 0,
   "metadata": {
    "colab": {
     "base_uri": "https://localhost:8080/",
     "height": 68
    },
    "colab_type": "code",
    "id": "xp3k8AyY-jPN",
    "outputId": "0c94f52c-20d3-4023-d179-e3bf238b53b1"
   },
   "outputs": [
    {
     "name": "stdout",
     "output_type": "stream",
     "text": [
      "Python version: 3.6.8\n",
      "Tensorflow version: 1.14.0\n",
      "Keras version: 2.2.4-tf\n"
     ]
    }
   ],
   "source": [
    "# Print the version of tensorflow\n",
    "print(\"Python version:\", platform.python_version())\n",
    "print(\"Tensorflow version:\", tf.__version__)\n",
    "print(\"Keras version:\", tf.keras.__version__)\n",
    "\n",
    "# For displaying the plots within the notebook\n",
    "%matplotlib inline\n",
    "\n",
    "# Disable all tensorflow warnings and errors\n",
    "os.environ['TF_CPP_MIN_LOG_LEVEL'] = '3'"
   ]
  },
  {
   "cell_type": "markdown",
   "metadata": {
    "colab_type": "text",
    "id": "DMmZA47K9d4C"
   },
   "source": [
    "# Basic Tensorflow operations\n",
    "To understand variables, placeholders, session"
   ]
  },
  {
   "cell_type": "code",
   "execution_count": 0,
   "metadata": {
    "colab": {
     "base_uri": "https://localhost:8080/"
    },
    "colab_type": "code",
    "id": "QF6C2eRN-kwU",
    "outputId": "c6a5f033-5725-42b6-ac9d-0c0d53f92d0d"
   },
   "outputs": [
    {
     "name": "stdout",
     "output_type": "stream",
     "text": [
      "b'Hello World'\n"
     ]
    }
   ],
   "source": [
    "# Hello world in tensorflow\n",
    "hello = tf.constant(\"Hello\")\n",
    "world = tf.constant(\" World\")\n",
    "with tf.Session() as sess:\n",
    "    result = sess.run(hello + world)\n",
    "print(result)"
   ]
  },
  {
   "cell_type": "code",
   "execution_count": 0,
   "metadata": {
    "colab": {
     "base_uri": "https://localhost:8080/"
    },
    "colab_type": "code",
    "id": "MTzj7qrm5U-q",
    "outputId": "f495eb5c-3c73-4769-8848-3756827423f6"
   },
   "outputs": [
    {
     "name": "stdout",
     "output_type": "stream",
     "text": [
      "[[ 11.2  13.3  15. ]\n",
      " [ 15.   27.   39. ]\n",
      " [ 63.  131.   25. ]]\n",
      "\n",
      "[[ 200.2  424.3  126. ]\n",
      " [ 431.8  893.2  309. ]\n",
      " [ 663.4 1362.1  492. ]]\n"
     ]
    }
   ],
   "source": [
    "# Matrix addition and multiplication\n",
    "\n",
    "# Create simple matrices\n",
    "mat_a = [[1, 2, 3],\n",
    "         [4, 5, 6],\n",
    "         [7, 8, 9]]\n",
    "\n",
    "mat_b = [[10.2, 11.3, 12.0],\n",
    "         [11.0, 22.0, 33.0],\n",
    "         [56.0, 123.0, 16.0]]\n",
    "\n",
    "# PlaceHolders\n",
    "mat1 = tf.placeholder(tf.float32)\n",
    "mat2 = tf.placeholder(tf.float32)\n",
    "\n",
    "mat_add = mat1 + mat2\n",
    "mat_mul = tf.matmul(mat1, mat2)\n",
    "\n",
    "with tf.Session() as sess:\n",
    "    add_result = sess.run(mat_add, feed_dict={mat1: mat_a, mat2: mat_b})\n",
    "    mul_result = sess.run(mat_mul, feed_dict={mat1: mat_a, mat2: mat_b})\n",
    "\n",
    "print(add_result, mul_result, sep=\"\\n\\n\")"
   ]
  },
  {
   "cell_type": "markdown",
   "metadata": {
    "colab_type": "text",
    "id": "JasvgjBi5anK"
   },
   "source": [
    "# Simple Classification problem using Keras\n",
    "To understand the keras API for building a simple neural network"
   ]
  },
  {
   "cell_type": "code",
   "execution_count": 0,
   "metadata": {
    "colab": {
     "base_uri": "https://localhost:8080/"
    },
    "colab_type": "code",
    "id": "geH--tJX4SxS",
    "outputId": "05ad4aa6-e27b-41d7-aca7-fb7a50fd8d19"
   },
   "outputs": [
    {
     "name": "stdout",
     "output_type": "stream",
     "text": [
      "(1000, 2) (1000,)\n"
     ]
    },
    {
     "data": {
      "image/png": "[encoded data removed]",
      "text/plain": [
       "<Figure size 432x288 with 1 Axes>"
      ]
     },
     "metadata": {
      "tags": []
     },
     "output_type": "display_data"
    }
   ],
   "source": [
    "# create data\n",
    "# make_circles(n_samples=1000, noise=0.1, factor=0.2, random_state=100)\n",
    "X, y = make_blobs(n_samples=1000, centers=2, random_state=42)\n",
    "print(X.shape, y.shape)\n",
    "\n",
    "# plot the data\n",
    "plt.plot(X[y==0, 0], X[y==0, 1], 'ob', alpha=0.5)\n",
    "plt.plot(X[y==1, 0], X[y==1, 1], 'xr', alpha=0.5)\n",
    "plt.show()\n",
    "\n",
    "# Split the data\n",
    "X_train, X_test, y_train, y_test = train_test_split(X, y, \n",
    "                                                    test_size=0.3,\n",
    "                                                    random_state=42)"
   ]
  },
  {
   "cell_type": "code",
   "execution_count": 0,
   "metadata": {
    "colab": {
     "base_uri": "https://localhost:8080/"
    },
    "colab_type": "code",
    "id": "HfjWJ9SQ6Ac2",
    "outputId": "b2a64288-e65c-40cc-e358-8e59689b026a"
   },
   "outputs": [
    {
     "name": "stdout",
     "output_type": "stream",
     "text": [
      "WARNING:tensorflow:From /usr/local/lib/python3.6/dist-packages/tensorflow/python/ops/init_ops.py:1251: calling VarianceScaling.__init__ (from tensorflow.python.ops.init_ops) with dtype is deprecated and will be removed in a future version.\n",
      "Instructions for updating:\n",
      "Call initializer instance with the dtype argument instead of passing it to the constructor\n",
      "WARNING:tensorflow:From /usr/local/lib/python3.6/dist-packages/tensorflow/python/ops/nn_impl.py:180: add_dispatch_support.<locals>.wrapper (from tensorflow.python.ops.array_ops) is deprecated and will be removed in a future version.\n",
      "Instructions for updating:\n",
      "Use tf.where in 2.0, which has the same broadcast rule as np.where\n",
      "300/300 [==============================] - 0s 102us/sample - loss: 7.9877e-05 - acc: 1.0000\n",
      "Loss and Accuracy:  [7.987676105888871e-05, 1.0]\n"
     ]
    }
   ],
   "source": [
    "# Creating a model\n",
    "model = tf.keras.Sequential()\n",
    "\n",
    "# Adding one dense layer\n",
    "model.add(layers.Dense(1, input_shape=(2,), activation='sigmoid'))\n",
    "\n",
    "# Compile and fit the model\n",
    "model.compile(optimizer=tf.keras.optimizers.Adam(lr=0.05),\n",
    "              loss='binary_crossentropy',\n",
    "              metrics=['accuracy'])\n",
    "model.fit(X_train, y_train, epochs=100, verbose=0)\n",
    "\n",
    "# Evaluate the model with the test data\n",
    "eval_result = model.evaluate(X_test, y_test)\n",
    "print(\"Loss and Accuracy: \", eval_result)"
   ]
  },
  {
   "cell_type": "markdown",
   "metadata": {
    "colab_type": "text",
    "id": "3wravQmT9lur"
   },
   "source": [
    "# Convolutional Neural Networks (CNN) using Keras\n",
    "Simple digit classification using the MNIST dataset"
   ]
  },
  {
   "cell_type": "markdown",
   "metadata": {
    "colab_type": "text",
    "id": "LL7MTgXTyy_j"
   },
   "source": [
    "Reference: [Medium blog post](https://towardsdatascience.com/image-classification-in-10-minutes-with-mnist-dataset-54c35b77a38d)"
   ]
  },
  {
   "cell_type": "code",
   "execution_count": 0,
   "metadata": {
    "colab": {
     "base_uri": "https://localhost:8080/",
     "height": 303
    },
    "colab_type": "code",
    "id": "Jq8wA7MDBF3k",
    "outputId": "b9f261c1-81c4-4fd9-bad6-fd40fd03afda"
   },
   "outputs": [
    {
     "name": "stdout",
     "output_type": "stream",
     "text": [
      "Downloading data from https://storage.googleapis.com/tensorflow/tf-keras-datasets/mnist.npz\n",
      "11493376/11490434 [==============================] - 0s 0us/step\n"
     ]
    },
    {
     "data": {
      "image/png": "[encoded data removed]",
      "text/plain": [
       "<Figure size 432x288 with 1 Axes>"
      ]
     },
     "metadata": {
      "tags": []
     },
     "output_type": "display_data"
    }
   ],
   "source": [
    "# Get the MNIST data (Modified National Institute of Standards and Technology)\n",
    "(x_train, y_train), (x_test, y_test) = tf.keras.datasets.mnist.load_data()\n",
    "plt.imshow(x_train[101], cmap='Greys')\n",
    "plt.show()"
   ]
  },
  {
   "cell_type": "code",
   "execution_count": 0,
   "metadata": {
    "colab": {
     "base_uri": "https://localhost:8080/",
     "height": 51
    },
    "colab_type": "code",
    "id": "IWwop38Px5cr",
    "outputId": "dd9bdcaa-c630-47f2-91d5-9a8960f6a155"
   },
   "outputs": [
    {
     "name": "stdout",
     "output_type": "stream",
     "text": [
      "Before: (60000, 28, 28) (10000, 28, 28) (60000,) (10000,)\n",
      "After: (60000, 28, 28, 1) (10000, 28, 28, 1)\n"
     ]
    }
   ],
   "source": [
    "print(\"Before:\", x_train.shape, x_test.shape, y_train.shape, y_test.shape)\n",
    "\n",
    "# Reshape\n",
    "x_train = x_train.astype('float32').reshape(*x_train.shape, 1)\n",
    "x_test = x_test.astype('float32').reshape(*x_test.shape, 1)\n",
    "\n",
    "# Normalizing\n",
    "x_train /= 255\n",
    "x_test /= 255\n",
    "\n",
    "print(\"After:\", x_train.shape, x_test.shape)"
   ]
  },
  {
   "cell_type": "code",
   "execution_count": 0,
   "metadata": {
    "colab": {
     "base_uri": "https://localhost:8080/",
     "height": 374
    },
    "colab_type": "code",
    "id": "oX1yP62QuUrq",
    "outputId": "7e91bb9e-ee24-4d2a-d0e3-567e81d16177"
   },
   "outputs": [
    {
     "name": "stdout",
     "output_type": "stream",
     "text": [
      "Epoch 1/10\n",
      "60000/60000 [==============================] - 26s 430us/sample - loss: 0.2794 - acc: 0.9179\n",
      "Epoch 2/10\n",
      "60000/60000 [==============================] - 27s 457us/sample - loss: 0.1164 - acc: 0.9647\n",
      "Epoch 3/10\n",
      "60000/60000 [==============================] - 27s 454us/sample - loss: 0.0791 - acc: 0.9760\n",
      "Epoch 4/10\n",
      "60000/60000 [==============================] - 27s 451us/sample - loss: 0.0604 - acc: 0.9816\n",
      "Epoch 5/10\n",
      "60000/60000 [==============================] - 26s 439us/sample - loss: 0.0467 - acc: 0.9853\n",
      "Epoch 6/10\n",
      "60000/60000 [==============================] - 26s 439us/sample - loss: 0.0367 - acc: 0.9887\n",
      "Epoch 7/10\n",
      "60000/60000 [==============================] - 27s 445us/sample - loss: 0.0314 - acc: 0.9899\n",
      "Epoch 8/10\n",
      "60000/60000 [==============================] - 26s 441us/sample - loss: 0.0248 - acc: 0.9922\n",
      "Epoch 9/10\n",
      "60000/60000 [==============================] - 26s 438us/sample - loss: 0.0208 - acc: 0.9930\n",
      "Epoch 10/10\n",
      "60000/60000 [==============================] - 26s 438us/sample - loss: 0.0220 - acc: 0.9924\n"
     ]
    },
    {
     "data": {
      "text/plain": [
       "<tensorflow.python.keras.callbacks.History at 0x7faac8ef2eb8>"
      ]
     },
     "execution_count": 9,
     "metadata": {
      "tags": []
     },
     "output_type": "execute_result"
    }
   ],
   "source": [
    "# Create a model\n",
    "model = tf.keras.Sequential()\n",
    "\n",
    "# 2D Convolution\n",
    "model.add(layers.Conv2D(filters=28,\n",
    "                        kernel_size=(3, 3),\n",
    "                        input_shape=(28, 28, 1)))\n",
    "\n",
    "# Maxpooling\n",
    "model.add(layers.MaxPooling2D(pool_size=(2, 2)))\n",
    "\n",
    "# Flattening for fully connected layers\n",
    "model.add(layers.Flatten())\n",
    "\n",
    "# Densely connected layer (ReLu: Rectified Linear Unit)\n",
    "model.add(layers.Dense(units=128, activation='relu'))\n",
    "\n",
    "# To prevent over-fitting\n",
    "model.add(layers.Dropout(rate=0.2))\n",
    "\n",
    "# Densely connected layer with softmax\n",
    "# 10 here represents the number of classes\n",
    "model.add(layers.Dense(units=10, activation='softmax'))\n",
    "\n",
    "# Compile the model with Adam optimizer\n",
    "model.compile(optimizer='adam',\n",
    "              loss='sparse_categorical_crossentropy',\n",
    "              metrics=['accuracy'])\n",
    "\n",
    "# Fitting the model\n",
    "model.fit(x=x_train, y=y_train, batch_size=128, epochs=10)"
   ]
  },
  {
   "cell_type": "code",
   "execution_count": 0,
   "metadata": {
    "colab": {
     "base_uri": "https://localhost:8080/",
     "height": 303
    },
    "colab_type": "code",
    "id": "0O--YR4U5ohA",
    "outputId": "88d2c47b-c674-4180-a1d2-48042ed9f0a8"
   },
   "outputs": [
    {
     "name": "stdout",
     "output_type": "stream",
     "text": [
      "10000/10000 [==============================] - 2s 202us/sample - loss: 0.0437 - acc: 0.9855\n",
      "3 3\n"
     ]
    },
    {
     "data": {
      "image/png": "[encoded data removed]",
      "text/plain": [
       "<Figure size 432x288 with 1 Axes>"
      ]
     },
     "metadata": {
      "tags": []
     },
     "output_type": "display_data"
    }
   ],
   "source": [
    "# Evaluate the model\n",
    "model.evaluate(x_test, y_test)\n",
    "\n",
    "# Check prediction\n",
    "plt.imshow(x_test[5000].reshape(28, 28), cmap='Greys')\n",
    "pred = model.predict(x_test[5000].reshape(1, 28, 28, 1))\n",
    "print(pred.argmax(), y_test[5000])"
   ]
  },
  {
   "cell_type": "code",
   "execution_count": 0,
   "metadata": {
    "colab": {},
    "colab_type": "code",
    "id": "6i-DM93S3rUM"
   },
   "outputs": [],
   "source": [
    "model.save(\"cnn.h5\")"
   ]
  }
 ],
 "metadata": {
  "accelerator": "TPU",
  "colab": {
   "collapsed_sections": [
    "DMmZA47K9d4C",
    "JasvgjBi5anK"
   ],
   "name": "DL_Learning_Tensorflow_keras.ipynb",
   "provenance": [],
   "toc_visible": true
  },
  "kernelspec": {
   "display_name": "Python 3",
   "language": "python",
   "name": "python3"
  },
  "language_info": {
   "codemirror_mode": {
    "name": "ipython",
    "version": 3
   },
   "file_extension": ".py",
   "mimetype": "text/x-python",
   "name": "python",
   "nbconvert_exporter": "python",
   "pygments_lexer": "ipython3",
   "version": "3.7.4"
  }
 },
 "nbformat": 4,
 "nbformat_minor": 1
}
